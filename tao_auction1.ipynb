{
 "cells": [
  {
   "cell_type": "code",
   "execution_count": 15,
   "metadata": {},
   "outputs": [],
   "source": [
    "import requests\n",
    "from bs4 import BeautifulSoup\n",
    "import json\n",
    "import pandas as pd"
   ]
  },
  {
   "cell_type": "code",
   "execution_count": 16,
   "metadata": {},
   "outputs": [],
   "source": [
    "def search_response(p):\n",
    "    url = \"https://sf.taobao.com/list/50025969_____%B1%B1%BE%A9.htm?spm=a213w.7398504.pagination.2.5c0c2ad5VoduHW&auction_source=0&st_param=-1&auction_start_seg=-1&page=1\"\n",
    "    cookie = \"thw=cn; enc=ip8QNm2ueul3YSwZn9sxTcWAQiAwen%2F2eHbFBmDRaAB%2FK2ItV0spgak8C1w7IRUnXchTiNIZgNPrqBXZHGLdNw%3D%3D; tracknick=%5Cu98DE%5Cu4E91686; user_device_id=1ca530677b8342dd9f44d31909b461d5; user_device_id_timestamp=1678710855090; hng=CN%7Czh-CN%7CCNY%7C156; _uetvid=e8d1bca0d55d11ed9c2b17e2a553f4b2; _ga=GA1.2.1309090945.1680883485; _ga_YFVFB9JLVB=GS1.1.1680883485.1.1.1680883491.0.0.0; l=fBIjS49VTiz8WvhiBOfZPurza779jIRAIuPzaNbMi9fPODfB5xshW1Fn0v86CnhVF672R3RpoAReBeYBqQd-nxvtOFj_flkmndLHR35..; t=0d803ae277ea68e0d0c0cd8592736bfc; _tb_token_=e6de5f17e6be1; cna=H5AWG+ACJDsCAXj0voUURGC2; mtop_partitioned_detect=1; _m_h5_tk=d09c95d137f4f66b2deda51ea5f70f17_1708623976314; _m_h5_tk_enc=ce3f488ecaadcb209348606ea2a61dfb; xlly_s=1; _samesite_flag_=true; 3PcFlag=1708616117841; cookie2=1df969380492b84e269cd748e039b719; sgcookie=E100KdkpTCzAhrgiQ%2BFKUdyK84b3DJDl5e5PdXUc6iPD9G%2FTXCnB75kNNrtzDVptaed2bg3RoZR7OaKxxMLsza1KEDuxNvrueW22UH%2FiOxPMlCvozrm6hLjpfP0K8sNCAWTB; unb=2652127518; uc1=pas=0&cookie15=Vq8l%2BKCLz3%2F65A%3D%3D&existShop=false&cookie14=UoYenbv72uMi2g%3D%3D&cookie16=Vq8l%2BKCLySLZMFWHxqs8fwqnEw%3D%3D&cookie21=WqG3DMC9FxUx; uc3=vt3=F8dD3er6yH1seCtmgJQ%3D&lg2=U%2BGCWk%2F75gdr5Q%3D%3D&id2=UU6kUZBJOV0Sow%3D%3D&nk2=1A4NrWItSQ%3D%3D; csg=ef0c8a79; lgc=%5Cu98DE%5Cu4E91686; cancelledSubSites=empty; cookie17=UU6kUZBJOV0Sow%3D%3D; dnk=%5Cu98DE%5Cu4E91686; skt=cd50e3febfaf5910; existShop=MTcwODYxNjEzMA%3D%3D; uc4=nk4=0%401t8c0AWpAMtp1fSRKqr5m3yk&id4=0%40U2xpU2XujIN%2BI1dcXn4fa%2FxjESRq; _cc_=VFC%2FuZ9ajQ%3D%3D; _l_g_=Ug%3D%3D; sg=680; _nk_=%5Cu98DE%5Cu4E91686; cookie1=BxY%2Fsv0RtuimT2BG5OC0m1gUgy9Nzoyxv18y6U8oumQ%3D; tfstk=eIT983MjcvDgIcyPxVnHuaAo5icnrFdaOdR7otXgcpppGLjboc7GDZpCKFXMsNGxkIO5Cl_flMaCs_VsQVuwKpXko1tscGadYUX-15OXosTA7exgoODNkI9lkYDor4Aw_i7jEYqkiy8AuIYo_f3k_CPClYDor44YEdqdXNstFQ6BJD1sMQ5w19Uv_eC1XlR1praXJzjOFrXLlrTd1gl9rUnyy8XRilGK9orVf6ymGEg87ZKqn6Botkq40MfF9TcK9orVf65dEX0u0oShT; isg=BH9_AuqOJmG0NST_BXndJlv9DlMJZNMGMi4qPxFMGy51IJ-iGTRjVv0yYvDeY6t-\"\n",
    "    cookie2 = \"arms_uid=a1961ac8-4ab1-4f0d-bb2b-c5cb7ac5c5d0; thw=cn; enc=ip8QNm2ueul3YSwZn9sxTcWAQiAwen%2F2eHbFBmDRaAB%2FK2ItV0spgak8C1w7IRUnXchTiNIZgNPrqBXZHGLdNw%3D%3D; tracknick=%5Cu98DE%5Cu4E91686; user_device_id=1ca530677b8342dd9f44d31909b461d5; user_device_id_timestamp=1678710855090; hng=CN%7Czh-CN%7CCNY%7C156; _uetvid=e8d1bca0d55d11ed9c2b17e2a553f4b2; _ga=GA1.2.1309090945.1680883485; _ga_YFVFB9JLVB=GS1.1.1680883485.1.1.1680883491.0.0.0; l=fBIjS49VTiz8WvhiBOfZPurza779jIRAIuPzaNbMi9fPODfB5xshW1Fn0v86CnhVF672R3RpoAReBeYBqQd-nxvtOFj_flkmndLHR35..; t=0d803ae277ea68e0d0c0cd8592736bfc; _tb_token_=e6de5f17e6be1; cna=H5AWG+ACJDsCAXj0voUURGC2; xlly_s=1; _samesite_flag_=true; 3PcFlag=1708616117841; cookie2=1df969380492b84e269cd748e039b719; sgcookie=E100KdkpTCzAhrgiQ%2BFKUdyK84b3DJDl5e5PdXUc6iPD9G%2FTXCnB75kNNrtzDVptaed2bg3RoZR7OaKxxMLsza1KEDuxNvrueW22UH%2FiOxPMlCvozrm6hLjpfP0K8sNCAWTB; uc3=vt3=F8dD3er6yH1seCtmgJQ%3D&lg2=U%2BGCWk%2F75gdr5Q%3D%3D&id2=UU6kUZBJOV0Sow%3D%3D&nk2=1A4NrWItSQ%3D%3D; csg=ef0c8a79; lgc=%5Cu98DE%5Cu4E91686; cancelledSubSites=empty; dnk=%5Cu98DE%5Cu4E91686; skt=cd50e3febfaf5910; existShop=MTcwODYxNjEzMA%3D%3D; uc4=nk4=0%401t8c0AWpAMtp1fSRKqr5m3yk&id4=0%40U2xpU2XujIN%2BI1dcXn4fa%2FxjESRq; _cc_=VFC%2FuZ9ajQ%3D%3D; x5sec=7b22733b32223a2238316531623032633139386461623032222c22617365727665723b33223a22307c434c4b6f35363447454e627967732f342f2f2f2f2f774561444449324e5449784d6a63314d5467374d54447a764e32582b2f2f2f2f2f3842227d; mtop_partitioned_detect=1; _m_h5_tk=13dc6ab70cbec91f834c20439f41ee6e_1708783816426; _m_h5_tk_enc=7d87d84ad3c91d725e6db04421b85739; tfstk=frQZCx_RlPUwr4pU4dT2Ybe-O7Y9lUeSnZ9XisfD1dvMCSIeit6LM5L1iKWVdpLf1d9fL2AviImijI4hdMjLBRFame0FuISgi5VwJyvFIqt1us32isXY6KNTA1C9kE27FEz561hzZIa_dEVctsku6G47P1Ci1CV5tzNTPQO94IYDjh4Hxpd-jVXmoBVeiIMimVXctEw2N-quZH2lZpbU2RuuUM1MLq5O8CxZX1vEoqbFYhJolpumowRNtXyH44rXEgp6VIX3RV8VtIWyaOk3LEfFWa-hSJ3VU9Sk8BIL3mJPm1sRmHPgS68wQ37BAbip7iXOuhIZM7CHS9IJehqLpB71PnJJYv2GO6JM4iSP4xdh_gbAbxm2jBdeFWPei1kr10ziNOnxDhIpTLNT6mnvjBdeFWPEDmK9yBJ765C..; isg=BGNjVPmaApP1JMgrgfV5Chep8qcNWPea7nrGC5XAv0I51IP2HSiH6kEGyqRa9E-S\"\n",
    "    refer = \"https://sf.taobao.com/list/50025969_____%EF%BF%BD%EF%BF%BD%EF%BF%BD%EF%BF%BD.htm/_____tmd_____/page/login_jump?rand=S3WxGHAgAt756EpznwfNzJq2AFA2qBNla3j6EINUS8We9dazM_iKElp8DwVSHZUevpC41Bx7RzivXIj9RnZgdg&_lgt_=0ac2e69eee6023f9ffb30e2a3f11bce5___9850___7776fc2a6afdadde8be978df881dbc61___23e418033d927e424b4f6fd5d415899a1d2ed90b4106a26d1e3fcc5a124d8f2171e8cfdbe9d1de17a5324b774f5c386ad59783ba2ea9403d209fc98a00245239552d7cc1b0ec230cafc27169534063d4e129a8e553172bab4b54204a45d67b8fee083e9757408088d8837cd97bc500580152defc0e57c00c9e2aa95f7cf596aa55e5d073237c7a49e310bf2bf6c868b970a94f2322704cc948c50591ed24d448a88194e988d7e719a93d59c5401095763d7b900bf307a7a24a26aee789d89eaf3952b1f7516e64dc3936a1a2dd49619733cec6921e81c4a94b504179adf59d14\"\n",
    "    headers = {\n",
    "        'Authority': \"sf-item.taobao.com\",\n",
    "        'Accept': \"text/html,application/xhtml+xml,application/xml;q=0.9,image/avif,image/webp,image/apng,*/*;q=0.8,application/signed-exchange;v=b3;q=0.7\",\n",
    "        'Accept-Encoding': \"gzip, deflate, br\",\n",
    "        'Accept-Language': \"zh-CN,zh;q=0.9\",\n",
    "        'Upgrade-Insecure-Requests': \"1\",\n",
    "        'Referer': refer,\n",
    "        'Cookie': cookie2,\n",
    "        'User-Agent':\"Mozilla/5.0 (Windows NT 10.0; Win64; x64) AppleWebKit/537.36 (KHTML, like Gecko) Chrome/121.0.0.0 Safari/537.36\"}\n",
    "    res = requests.get(url, headers=headers)\n",
    "    return res.text"
   ]
  },
  {
   "cell_type": "code",
   "execution_count": 17,
   "metadata": {},
   "outputs": [],
   "source": [
    "def analyze(response):\n",
    "    soup = BeautifulSoup(response, \"html.parser\")\n",
    "    script_data = soup.find('script', {'id': 'sf-item-list-data'}).get_text()\n",
    "    json_data = json.loads(script_data)\n",
    "    json_dic_lst = json_data['data']\n",
    "    total = pd.DataFrame()\n",
    "    for dic in json_dic_lst:\n",
    "        df = pd.DataFrame({\n",
    "            'id': [dic['id']],\n",
    "            'itemUrl': [dic['itemUrl']],\n",
    "            'title': [dic['title']],\n",
    "        })\n",
    "        total = pd.concat([total, df])\n",
    "    return total"
   ]
  },
  {
   "cell_type": "code",
   "execution_count": 18,
   "metadata": {},
   "outputs": [],
   "source": [
    "first_page_content = analyze(search_response(1))"
   ]
  },
  {
   "cell_type": "code",
   "execution_count": 20,
   "metadata": {},
   "outputs": [],
   "source": [
    "first_page_content.to_csv(\"taobao_autction_beijing_property_firstpage.csv\")"
   ]
  },
  {
   "cell_type": "code",
   "execution_count": null,
   "metadata": {},
   "outputs": [],
   "source": []
  }
 ],
 "metadata": {
  "kernelspec": {
   "display_name": "Python 3",
   "language": "python",
   "name": "python3"
  },
  "language_info": {
   "codemirror_mode": {
    "name": "ipython",
    "version": 3
   },
   "file_extension": ".py",
   "mimetype": "text/x-python",
   "name": "python",
   "nbconvert_exporter": "python",
   "pygments_lexer": "ipython3",
   "version": "3.10.8"
  }
 },
 "nbformat": 4,
 "nbformat_minor": 2
}
