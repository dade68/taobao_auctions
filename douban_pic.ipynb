{
 "cells": [
  {
   "cell_type": "code",
   "execution_count": 1,
   "metadata": {},
   "outputs": [],
   "source": [
    "import requests\n",
    "from bs4 import BeautifulSoup\n",
    "import time\n",
    "import os"
   ]
  },
  {
   "cell_type": "code",
   "execution_count": 2,
   "metadata": {},
   "outputs": [],
   "source": [
    "def get_poster_url(res):\n",
    "    content = BeautifulSoup(res, \"html.parser\")\n",
    "    data = content.find_all('div', attrs={'class': 'cover'})\n",
    "    picture_list = []\n",
    "    for d in data:\n",
    "        plist = d.find('img')['src']\n",
    "        picture_list.append(plist)\n",
    "    return picture_list"
   ]
  },
  {
   "cell_type": "code",
   "execution_count": 3,
   "metadata": {},
   "outputs": [],
   "source": [
    "def download_picture(pic_l):\n",
    "    if not os.path.exists(r'picture'):\n",
    "        os.mkdir(r'picture')\n",
    "    for i in pic_l:\n",
    "        pic = requests.get(i)\n",
    "        p_name = i.split('/')[7]\n",
    "        with open('picture\\\\' + p_name, 'wb') as f:\n",
    "            f.write(pic.content)"
   ]
  },
  {
   "cell_type": "code",
   "execution_count": 4,
   "metadata": {},
   "outputs": [],
   "source": [
    "def fire():\n",
    "    page = 0\n",
    "    for i in range(0, 450, 30):\n",
    "        print(\"开始爬取第 %s 页\" % page)\n",
    "        url = 'https://movie.douban.com/celebrity/1011562/photos/?type=C&start={}&sortby=like&size=a&subtype=a'.format(i)\n",
    "        headers = {'User-Agent':\"Mozilla/5.0 (Windows NT 10.0; Win64; x64) AppleWebKit/537.36 (KHTML, like Gecko) Chrome/121.0.0.0 Safari/537.36\"}\n",
    "        res = requests.get(url, headers=headers).text\n",
    "        data = get_poster_url(res)\n",
    "        download_picture(data)\n",
    "        page += 1\n",
    "        time.sleep(1)"
   ]
  },
  {
   "cell_type": "code",
   "execution_count": 5,
   "metadata": {},
   "outputs": [
    {
     "name": "stdout",
     "output_type": "stream",
     "text": [
      "开始爬取第 0 页\n",
      "开始爬取第 1 页\n",
      "开始爬取第 2 页\n",
      "开始爬取第 3 页\n",
      "开始爬取第 4 页\n",
      "开始爬取第 5 页\n",
      "开始爬取第 6 页\n",
      "开始爬取第 7 页\n",
      "开始爬取第 8 页\n",
      "开始爬取第 9 页\n",
      "开始爬取第 10 页\n",
      "开始爬取第 11 页\n",
      "开始爬取第 12 页\n",
      "开始爬取第 13 页\n",
      "开始爬取第 14 页\n"
     ]
    }
   ],
   "source": [
    "fire()"
   ]
  },
  {
   "cell_type": "code",
   "execution_count": null,
   "metadata": {},
   "outputs": [],
   "source": []
  }
 ],
 "metadata": {
  "kernelspec": {
   "display_name": "myenv",
   "language": "python",
   "name": "python3"
  },
  "language_info": {
   "codemirror_mode": {
    "name": "ipython",
    "version": 3
   },
   "file_extension": ".py",
   "mimetype": "text/x-python",
   "name": "python",
   "nbconvert_exporter": "python",
   "pygments_lexer": "ipython3",
   "version": "3.10.8"
  }
 },
 "nbformat": 4,
 "nbformat_minor": 2
}
