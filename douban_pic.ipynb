{
 "cells": [
  {
   "cell_type": "code",
   "execution_count": 5,
   "metadata": {},
   "outputs": [],
   "source": [
    "import requests\n",
    "from bs4 import BeautifulSoup\n",
    "import time\n",
    "import os"
   ]
  },
  {
   "cell_type": "code",
   "execution_count": 6,
   "metadata": {},
   "outputs": [],
   "source": [
    "def get_poster_url(res):\n",
    "    content = BeautifulSoup(res, \"html.parser\")\n",
    "    data = content.find_all('div', attrs={'class': 'cover'})\n",
    "    picture_list = []\n",
    "    for d in data:\n",
    "        plist = d.find('img')['src']\n",
    "        picture_list.append(plist)\n",
    "    return picture_list"
   ]
  },
  {
   "cell_type": "code",
   "execution_count": null,
   "metadata": {},
   "outputs": [],
   "source": [
    "def download_picture(pic_l):\n",
    "    if not os.path.exists(r'picture'):\n",
    "        os.mkdir(r'picture')\n",
    "    for i in pic_l:\n",
    "        pic = requests.get(i)\n",
    "        p_name = "
   ]
  }
 ],
 "metadata": {
  "kernelspec": {
   "display_name": "myenv",
   "language": "python",
   "name": "python3"
  },
  "language_info": {
   "codemirror_mode": {
    "name": "ipython",
    "version": 3
   },
   "file_extension": ".py",
   "mimetype": "text/x-python",
   "name": "python",
   "nbconvert_exporter": "python",
   "pygments_lexer": "ipython3",
   "version": "3.11.5"
  }
 },
 "nbformat": 4,
 "nbformat_minor": 2
}
